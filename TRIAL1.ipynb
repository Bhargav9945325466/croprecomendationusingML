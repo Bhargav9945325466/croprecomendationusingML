{
 "cells": [
  {
   "cell_type": "code",
   "execution_count": 3,
   "id": "cad84aa7",
   "metadata": {},
   "outputs": [
    {
     "name": "stdout",
     "output_type": "stream",
     "text": [
      "Requirement already satisfied: gradio in c:\\users\\bm068\\anaconda\\lib\\site-packages (5.9.1)\n",
      "Requirement already satisfied: aiofiles<24.0,>=22.0 in c:\\users\\bm068\\anaconda\\lib\\site-packages (from gradio) (22.1.0)\n",
      "Requirement already satisfied: anyio<5.0,>=3.0 in c:\\users\\bm068\\anaconda\\lib\\site-packages (from gradio) (3.5.0)\n",
      "Requirement already satisfied: fastapi<1.0,>=0.115.2 in c:\\users\\bm068\\anaconda\\lib\\site-packages (from gradio) (0.115.6)\n",
      "Requirement already satisfied: ffmpy in c:\\users\\bm068\\anaconda\\lib\\site-packages (from gradio) (0.5.0)\n",
      "Requirement already satisfied: gradio-client==1.5.2 in c:\\users\\bm068\\anaconda\\lib\\site-packages (from gradio) (1.5.2)\n",
      "Requirement already satisfied: httpx>=0.24.1 in c:\\users\\bm068\\anaconda\\lib\\site-packages (from gradio) (0.28.1)\n",
      "Requirement already satisfied: huggingface-hub>=0.25.1 in c:\\users\\bm068\\anaconda\\lib\\site-packages (from gradio) (0.27.0)\n",
      "Requirement already satisfied: jinja2<4.0 in c:\\users\\bm068\\anaconda\\lib\\site-packages (from gradio) (3.1.2)\n",
      "Requirement already satisfied: markupsafe~=2.0 in c:\\users\\bm068\\anaconda\\lib\\site-packages (from gradio) (2.1.1)\n",
      "Requirement already satisfied: numpy<3.0,>=1.0 in c:\\users\\bm068\\anaconda\\lib\\site-packages (from gradio) (1.24.3)\n",
      "Requirement already satisfied: orjson~=3.0 in c:\\users\\bm068\\anaconda\\lib\\site-packages (from gradio) (3.10.12)\n",
      "Requirement already satisfied: packaging in c:\\users\\bm068\\anaconda\\lib\\site-packages (from gradio) (23.1)\n",
      "Requirement already satisfied: pandas<3.0,>=1.0 in c:\\users\\bm068\\anaconda\\lib\\site-packages (from gradio) (2.0.3)\n",
      "Requirement already satisfied: pillow<12.0,>=8.0 in c:\\users\\bm068\\anaconda\\lib\\site-packages (from gradio) (9.4.0)\n",
      "Requirement already satisfied: pydantic>=2.0 in c:\\users\\bm068\\anaconda\\lib\\site-packages (from gradio) (2.10.4)\n",
      "Requirement already satisfied: pydub in c:\\users\\bm068\\anaconda\\lib\\site-packages (from gradio) (0.25.1)\n",
      "Requirement already satisfied: python-multipart>=0.0.18 in c:\\users\\bm068\\anaconda\\lib\\site-packages (from gradio) (0.0.20)\n",
      "Requirement already satisfied: pyyaml<7.0,>=5.0 in c:\\users\\bm068\\anaconda\\lib\\site-packages (from gradio) (6.0)\n",
      "Requirement already satisfied: ruff>=0.2.2 in c:\\users\\bm068\\anaconda\\lib\\site-packages (from gradio) (0.8.4)\n",
      "Requirement already satisfied: safehttpx<0.2.0,>=0.1.6 in c:\\users\\bm068\\anaconda\\lib\\site-packages (from gradio) (0.1.6)\n",
      "Requirement already satisfied: semantic-version~=2.0 in c:\\users\\bm068\\anaconda\\lib\\site-packages (from gradio) (2.10.0)\n",
      "Requirement already satisfied: starlette<1.0,>=0.40.0 in c:\\users\\bm068\\anaconda\\lib\\site-packages (from gradio) (0.41.3)\n",
      "Requirement already satisfied: tomlkit<0.14.0,>=0.12.0 in c:\\users\\bm068\\anaconda\\lib\\site-packages (from gradio) (0.13.2)\n",
      "Requirement already satisfied: typer<1.0,>=0.12 in c:\\users\\bm068\\anaconda\\lib\\site-packages (from gradio) (0.15.1)\n",
      "Requirement already satisfied: typing-extensions~=4.0 in c:\\users\\bm068\\anaconda\\lib\\site-packages (from gradio) (4.12.2)\n",
      "Requirement already satisfied: uvicorn>=0.14.0 in c:\\users\\bm068\\anaconda\\lib\\site-packages (from gradio) (0.34.0)\n",
      "Requirement already satisfied: fsspec in c:\\users\\bm068\\anaconda\\lib\\site-packages (from gradio-client==1.5.2->gradio) (2024.12.0)\n",
      "Requirement already satisfied: websockets<15.0,>=10.0 in c:\\users\\bm068\\anaconda\\lib\\site-packages (from gradio-client==1.5.2->gradio) (14.1)\n",
      "Requirement already satisfied: idna>=2.8 in c:\\users\\bm068\\anaconda\\lib\\site-packages (from anyio<5.0,>=3.0->gradio) (3.4)\n",
      "Requirement already satisfied: sniffio>=1.1 in c:\\users\\bm068\\anaconda\\lib\\site-packages (from anyio<5.0,>=3.0->gradio) (1.2.0)\n",
      "Requirement already satisfied: certifi in c:\\users\\bm068\\anaconda\\lib\\site-packages (from httpx>=0.24.1->gradio) (2023.7.22)\n",
      "Requirement already satisfied: httpcore==1.* in c:\\users\\bm068\\anaconda\\lib\\site-packages (from httpx>=0.24.1->gradio) (1.0.7)\n",
      "Requirement already satisfied: h11<0.15,>=0.13 in c:\\users\\bm068\\anaconda\\lib\\site-packages (from httpcore==1.*->httpx>=0.24.1->gradio) (0.14.0)\n",
      "Requirement already satisfied: filelock in c:\\users\\bm068\\anaconda\\lib\\site-packages (from huggingface-hub>=0.25.1->gradio) (3.9.0)\n",
      "Requirement already satisfied: requests in c:\\users\\bm068\\anaconda\\lib\\site-packages (from huggingface-hub>=0.25.1->gradio) (2.31.0)\n",
      "Requirement already satisfied: tqdm>=4.42.1 in c:\\users\\bm068\\anaconda\\lib\\site-packages (from huggingface-hub>=0.25.1->gradio) (4.65.0)\n",
      "Requirement already satisfied: python-dateutil>=2.8.2 in c:\\users\\bm068\\anaconda\\lib\\site-packages (from pandas<3.0,>=1.0->gradio) (2.8.2)\n",
      "Requirement already satisfied: pytz>=2020.1 in c:\\users\\bm068\\anaconda\\lib\\site-packages (from pandas<3.0,>=1.0->gradio) (2023.3.post1)\n",
      "Requirement already satisfied: tzdata>=2022.1 in c:\\users\\bm068\\anaconda\\lib\\site-packages (from pandas<3.0,>=1.0->gradio) (2023.3)\n",
      "Requirement already satisfied: annotated-types>=0.6.0 in c:\\users\\bm068\\anaconda\\lib\\site-packages (from pydantic>=2.0->gradio) (0.7.0)\n",
      "Requirement already satisfied: pydantic-core==2.27.2 in c:\\users\\bm068\\anaconda\\lib\\site-packages (from pydantic>=2.0->gradio) (2.27.2)\n",
      "Requirement already satisfied: click>=8.0.0 in c:\\users\\bm068\\anaconda\\lib\\site-packages (from typer<1.0,>=0.12->gradio) (8.0.4)\n",
      "Requirement already satisfied: shellingham>=1.3.0 in c:\\users\\bm068\\anaconda\\lib\\site-packages (from typer<1.0,>=0.12->gradio) (1.5.4)\n",
      "Requirement already satisfied: rich>=10.11.0 in c:\\users\\bm068\\anaconda\\lib\\site-packages (from typer<1.0,>=0.12->gradio) (13.9.4)\n",
      "Requirement already satisfied: colorama in c:\\users\\bm068\\anaconda\\lib\\site-packages (from click>=8.0.0->typer<1.0,>=0.12->gradio) (0.4.6)\n",
      "Requirement already satisfied: six>=1.5 in c:\\users\\bm068\\anaconda\\lib\\site-packages (from python-dateutil>=2.8.2->pandas<3.0,>=1.0->gradio) (1.16.0)\n",
      "Requirement already satisfied: markdown-it-py>=2.2.0 in c:\\users\\bm068\\anaconda\\lib\\site-packages (from rich>=10.11.0->typer<1.0,>=0.12->gradio) (2.2.0)\n",
      "Requirement already satisfied: pygments<3.0.0,>=2.13.0 in c:\\users\\bm068\\anaconda\\lib\\site-packages (from rich>=10.11.0->typer<1.0,>=0.12->gradio) (2.15.1)\n",
      "Requirement already satisfied: charset-normalizer<4,>=2 in c:\\users\\bm068\\anaconda\\lib\\site-packages (from requests->huggingface-hub>=0.25.1->gradio) (2.0.4)\n",
      "Requirement already satisfied: urllib3<3,>=1.21.1 in c:\\users\\bm068\\anaconda\\lib\\site-packages (from requests->huggingface-hub>=0.25.1->gradio) (1.26.16)\n",
      "Requirement already satisfied: mdurl~=0.1 in c:\\users\\bm068\\anaconda\\lib\\site-packages (from markdown-it-py>=2.2.0->rich>=10.11.0->typer<1.0,>=0.12->gradio) (0.1.0)\n",
      "* Running on local URL:  http://127.0.0.1:7861\n",
      "* Running on public URL: https://ad4960cd0f825adb36.gradio.live\n",
      "\n",
      "This share link expires in 72 hours. For free permanent hosting and GPU upgrades, run `gradio deploy` from the terminal in the working directory to deploy to Hugging Face Spaces (https://huggingface.co/spaces)\n"
     ]
    },
    {
     "data": {
      "text/html": [
       "<div><iframe src=\"https://ad4960cd0f825adb36.gradio.live\" width=\"100%\" height=\"500\" allow=\"autoplay; camera; microphone; clipboard-read; clipboard-write;\" frameborder=\"0\" allowfullscreen></iframe></div>"
      ],
      "text/plain": [
       "<IPython.core.display.HTML object>"
      ]
     },
     "metadata": {},
     "output_type": "display_data"
    },
    {
     "data": {
      "text/plain": []
     },
     "execution_count": 3,
     "metadata": {},
     "output_type": "execute_result"
    }
   ],
   "source": [
    "!pip install gradio\n",
    "\n",
    "import pandas as pd\n",
    "from sklearn.model_selection import train_test_split\n",
    "from sklearn.svm import SVC\n",
    "from sklearn.preprocessing import StandardScaler\n",
    "from sklearn.metrics import accuracy_score, classification_report\n",
    "import gradio as gr\n",
    "\n",
    "file_path = '/mnt/data/Crop_Recommendation.csv'\n",
    "data = pd.read_csv(\"Crop_Recommendation.csv\")\n",
    "\n",
    "X = data.iloc[:, :-1]\n",
    "y = data.iloc[:, -1]\n",
    "\n",
    "X_train, X_test, y_train, y_test = train_test_split(X, y, test_size=0.2, random_state=42)\n",
    "\n",
    "# Standardize the features\n",
    "scaler = StandardScaler()\n",
    "X_train = scaler.fit_transform(X_train)\n",
    "X_test = scaler.transform(X_test)\n",
    "\n",
    "svm_classifier = SVC(kernel='rbf', random_state=42)\n",
    "svm_classifier.fit(X_train, y_train)\n",
    "\n",
    "def recommend_crop(nitrogen, phosphorus, potassium, temperature, humidity, ph, rainfall):\n",
    "    try:\n",
    "        # Combine inputs into a list\n",
    "        user_input = [[nitrogen, phosphorus, potassium, temperature, humidity, ph, rainfall]]\n",
    "        # Standardize the input\n",
    "        user_input_scaled = scaler.transform(user_input)\n",
    "        \n",
    "        # Predict the crop\n",
    "        predicted_crop = svm_classifier.predict(user_input_scaled)\n",
    "        return f\"Recommended Crop: {predicted_crop[0]}\"\n",
    "    except Exception as e:\n",
    "        return f\"Error: {e}\"\n",
    "\n",
    "# Create Gradio Interface\n",
    "inputs = [\n",
    "    gr.Number(label=\"Nitrogen (N)\"),\n",
    "    gr.Number(label=\"Phosphorus (P)\"),\n",
    "    gr.Number(label=\"Potassium (K)\"),\n",
    "    gr.Number(label=\"Temperature (°C)\"),\n",
    "    gr.Number(label=\"Humidity (%)\"),\n",
    "    gr.Number(label=\"pH Level\"),\n",
    "    gr.Number(label=\"Rainfall (mm)\")\n",
    "]\n",
    "\n",
    "outputs = gr.Textbox()\n",
    "\n",
    "# Launch Gradio interface\n",
    "interface = gr.Interface(\n",
    "    fn=recommend_crop,\n",
    "    inputs=inputs,\n",
    "    outputs=outputs,\n",
    "    title=\"Crop Recommendation System\",\n",
    "    description=\"Enter soil contents to get a recommended crop.\"\n",
    ")\n",
    "\n",
    "interface.launch(share=True)\n"
   ]
  }
 ],
 "metadata": {
  "kernelspec": {
   "display_name": "Python 3 (ipykernel)",
   "language": "python",
   "name": "python3"
  },
  "language_info": {
   "codemirror_mode": {
    "name": "ipython",
    "version": 3
   },
   "file_extension": ".py",
   "mimetype": "text/x-python",
   "name": "python",
   "nbconvert_exporter": "python",
   "pygments_lexer": "ipython3",
   "version": "3.11.5"
  }
 },
 "nbformat": 4,
 "nbformat_minor": 5
}
