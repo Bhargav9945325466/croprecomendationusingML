{
 "cells": [
  {
   "cell_type": "code",
   "execution_count": 2,
   "id": "cad84aa7",
   "metadata": {},
   "outputs": [
    {
     "ename": "SyntaxError",
     "evalue": "invalid syntax (1252077446.py, line 1)",
     "output_type": "error",
     "traceback": [
      "\u001b[1;36m  Cell \u001b[1;32mIn[2], line 1\u001b[1;36m\u001b[0m\n\u001b[1;33m    pip install gradio\u001b[0m\n\u001b[1;37m        ^\u001b[0m\n\u001b[1;31mSyntaxError\u001b[0m\u001b[1;31m:\u001b[0m invalid syntax\n"
     ]
    }
   ],
   "source": [
    "!pip install gradio\n",
    "\n",
    "import pandas as pd\n",
    "from sklearn.model_selection import train_test_split\n",
    "from sklearn.svm import SVC\n",
    "from sklearn.preprocessing import StandardScaler\n",
    "from sklearn.metrics import accuracy_score, classification_report\n",
    "import gradio as gr\n",
    "\n",
    "file_path = '/mnt/data/Crop_Recommendation.csv'\n",
    "data = pd.read_csv(\"Crop_Recommendation.csv\")\n",
    "\n",
    "X = data.iloc[:, :-1]\n",
    "y = data.iloc[:, -1]\n",
    "\n",
    "X_train, X_test, y_train, y_test = train_test_split(X, y, test_size=0.2, random_state=42)\n",
    "\n",
    "# Standardize the features\n",
    "scaler = StandardScaler()\n",
    "X_train = scaler.fit_transform(X_train)\n",
    "X_test = scaler.transform(X_test)\n",
    "\n",
    "svm_classifier = SVC(kernel='rbf', random_state=42)\n",
    "svm_classifier.fit(X_train, y_train)\n",
    "\n",
    "def recommend_crop(nitrogen, phosphorus, potassium, temperature, humidity, ph, rainfall):\n",
    "    try:\n",
    "        # Combine inputs into a list\n",
    "        user_input = [[nitrogen, phosphorus, potassium, temperature, humidity, ph, rainfall]]\n",
    "        # Standardize the input\n",
    "        user_input_scaled = scaler.transform(user_input)\n",
    "        \n",
    "        # Predict the crop\n",
    "        predicted_crop = svm_classifier.predict(user_input_scaled)\n",
    "        return f\"Recommended Crop: {predicted_crop[0]}\"\n",
    "    except Exception as e:\n",
    "        return f\"Error: {e}\"\n",
    "\n",
    "# Create Gradio Interface\n",
    "inputs = [\n",
    "    gr.Number(label=\"Nitrogen (N)\"),\n",
    "    gr.Number(label=\"Phosphorus (P)\"),\n",
    "    gr.Number(label=\"Potassium (K)\"),\n",
    "    gr.Number(label=\"Temperature (°C)\"),\n",
    "    gr.Number(label=\"Humidity (%)\"),\n",
    "    gr.Number(label=\"pH Level\"),\n",
    "    gr.Number(label=\"Rainfall (mm)\")\n",
    "]\n",
    "\n",
    "outputs = gr.Textbox()\n",
    "\n",
    "# Launch Gradio interface\n",
    "interface = gr.Interface(\n",
    "    fn=recommend_crop,\n",
    "    inputs=inputs,\n",
    "    outputs=outputs,\n",
    "    title=\"Crop Recommendation System\",\n",
    "    description=\"Enter soil contents to get a recommended crop.\"\n",
    ")\n",
    "\n",
    "interface.launch(share=True)\n"
   ]
  },
  {
   "cell_type": "code",
   "execution_count": 7,
   "id": "e96911d7",
   "metadata": {},
   "outputs": [
    {
     "name": "stdout",
     "output_type": "stream",
     "text": [
      "   Nitrogen  Phosphorus  Potassium  Temperature   Humidity  pH_Value  \\\n",
      "0        90          42         43    20.879744  82.002744  6.502985   \n",
      "1        85          58         41    21.770462  80.319644  7.038096   \n",
      "2        60          55         44    23.004459  82.320763  7.840207   \n",
      "3        74          35         40    26.491096  80.158363  6.980401   \n",
      "4        78          42         42    20.130175  81.604873  7.628473   \n",
      "\n",
      "     Rainfall  Crop  \n",
      "0  202.935536  Rice  \n",
      "1  226.655537  Rice  \n",
      "2  263.964248  Rice  \n",
      "3  242.864034  Rice  \n",
      "4  262.717340  Rice  \n"
     ]
    }
   ],
   "source": []
  },
  {
   "cell_type": "code",
   "execution_count": 8,
   "id": "a6b82ac1",
   "metadata": {},
   "outputs": [],
   "source": []
  },
  {
   "cell_type": "code",
   "execution_count": 9,
   "id": "3e4b0836",
   "metadata": {},
   "outputs": [],
   "source": []
  },
  {
   "cell_type": "code",
   "execution_count": 10,
   "id": "ed14d7c6",
   "metadata": {},
   "outputs": [
    {
     "name": "stdout",
     "output_type": "stream",
     "text": [
      "Accuracy: 0.97\n",
      "\n",
      "Classification Report:\n",
      "               precision    recall  f1-score   support\n",
      "\n",
      "       Apple       1.00      1.00      1.00        23\n",
      "      Banana       1.00      1.00      1.00        21\n",
      "   Blackgram       1.00      0.95      0.97        20\n",
      "    ChickPea       1.00      1.00      1.00        26\n",
      "     Coconut       1.00      1.00      1.00        27\n",
      "      Coffee       0.94      1.00      0.97        17\n",
      "      Cotton       0.94      1.00      0.97        17\n",
      "      Grapes       1.00      1.00      1.00        14\n",
      "        Jute       0.78      0.91      0.84        23\n",
      " KidneyBeans       0.91      1.00      0.95        20\n",
      "      Lentil       0.79      1.00      0.88        11\n",
      "       Maize       1.00      0.95      0.98        21\n",
      "       Mango       1.00      1.00      1.00        19\n",
      "   MothBeans       1.00      0.92      0.96        24\n",
      "    MungBean       1.00      1.00      1.00        19\n",
      "   Muskmelon       1.00      1.00      1.00        17\n",
      "      Orange       1.00      1.00      1.00        14\n",
      "      Papaya       1.00      1.00      1.00        23\n",
      "  PigeonPeas       1.00      0.91      0.95        23\n",
      " Pomegranate       1.00      1.00      1.00        23\n",
      "        Rice       0.93      0.68      0.79        19\n",
      "  Watermelon       1.00      1.00      1.00        19\n",
      "\n",
      "    accuracy                           0.97       440\n",
      "   macro avg       0.97      0.97      0.97       440\n",
      "weighted avg       0.97      0.97      0.97       440\n",
      "\n"
     ]
    }
   ],
   "source": []
  },
  {
   "cell_type": "code",
   "execution_count": 12,
   "id": "8a6fbc52",
   "metadata": {},
   "outputs": [
    {
     "name": "stdout",
     "output_type": "stream",
     "text": [
      "Recommended Crop: MothBeans\n"
     ]
    },
    {
     "name": "stderr",
     "output_type": "stream",
     "text": [
      "C:\\Users\\bm068\\anaconda\\Lib\\site-packages\\sklearn\\base.py:464: UserWarning: X does not have valid feature names, but StandardScaler was fitted with feature names\n",
      "  warnings.warn(\n"
     ]
    }
   ],
   "source": []
  },
  {
   "cell_type": "code",
   "execution_count": null,
   "id": "fcf248f1",
   "metadata": {},
   "outputs": [],
   "source": []
  }
 ],
 "metadata": {
  "kernelspec": {
   "display_name": "Python 3 (ipykernel)",
   "language": "python",
   "name": "python3"
  },
  "language_info": {
   "codemirror_mode": {
    "name": "ipython",
    "version": 3
   },
   "file_extension": ".py",
   "mimetype": "text/x-python",
   "name": "python",
   "nbconvert_exporter": "python",
   "pygments_lexer": "ipython3",
   "version": "3.11.5"
  }
 },
 "nbformat": 4,
 "nbformat_minor": 5
}
